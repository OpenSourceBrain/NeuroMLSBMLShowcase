{
 "cells": [
  {
   "cell_type": "markdown",
   "metadata": {},
   "source": [
    "## Loading, simulating & replaying a NeuroML model"
   ]
  },
  {
   "cell_type": "code",
   "execution_count": 5,
   "metadata": {},
   "outputs": [
    {
     "name": "stderr",
     "output_type": "stream",
     "text": [
      "libNeuroML >>> INFO - Loading NeuroML2 file: TestNet.net.nml\n"
     ]
    },
    {
     "name": "stdout",
     "output_type": "stream",
     "text": [
      "*******************************************************\n",
      "* NeuroMLDocument: TestNet\n",
      "*\n",
      "*  IncludeType: ['BallAndStick.cell.nml']\n",
      "*  PulseGenerator: ['i_clamp_early', 'i_clamp_late']\n",
      "*\n",
      "*  Network: TestNet\n",
      "*\n",
      "*   1 cells in 1 populations \n",
      "*     Population: pop0 with 1 components of type BallAndStick\n",
      "*       Locations: [(966.4535, 44.0733, 7.4915), ...]\n",
      "*       Properties: color=1 0 0; region=region1; \n",
      "*\n",
      "*   0 connections in 0 projections \n",
      "*\n",
      "*   2 inputs in 2 input lists \n",
      "*     Input list: stim_dend_tip to pop0, component i_clamp_late\n",
      "*       1 inputs: [(Input 0: 0:9(0.500000)), ...]\n",
      "*     Input list: stim_soma to pop0, component i_clamp_early\n",
      "*       1 inputs: [(Input 0: 0:0(0.500000)), ...]\n",
      "*\n",
      "*******************************************************\n"
     ]
    }
   ],
   "source": [
    "import neuroml\n",
    "from pyneuroml import pynml \n",
    "\n",
    "test_net_file = 'TestNet.net.nml'\n",
    "\n",
    "nml_doc = pynml.read_neuroml2_file(test_net_file)\n",
    "\n",
    "print(nml_doc.summary())"
   ]
  },
  {
   "cell_type": "code",
   "execution_count": null,
   "metadata": {},
   "outputs": [],
   "source": []
  }
 ],
 "metadata": {
  "kernelspec": {
   "display_name": "py39n",
   "language": "python",
   "name": "python3"
  },
  "language_info": {
   "codemirror_mode": {
    "name": "ipython",
    "version": 3
   },
   "file_extension": ".py",
   "mimetype": "text/x-python",
   "name": "python",
   "nbconvert_exporter": "python",
   "pygments_lexer": "ipython3",
   "version": "3.9.16"
  }
 },
 "nbformat": 4,
 "nbformat_minor": 2
}
